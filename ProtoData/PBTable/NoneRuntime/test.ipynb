{
 "cells": [
  {
   "cell_type": "code",
   "execution_count": 45,
   "metadata": {},
   "outputs": [
    {
     "name": "stdout",
     "output_type": "stream",
     "text": [
      "['FUStBuffDesc-rd.data', 'FUStBulletCommDesc.data', 'FUStSkillEffectDesc-hs.data', 'FUStSkillEffectDesc-SZ.data', 'FUStSkillEffectDesc-SZ02.data', 'FUStSkillEffectDesc-zh.data', 'FUStSummonCommDesc.data']\n"
     ]
    }
   ],
   "source": [
    "import blackboxprotobuf\n",
    "import base64,os,json,pathlib\n",
    "from pathlib import Path\n",
    "path0=Path(\"./\")\n",
    "blacklist=[\"FUStBuffDesc-rd.data\",\"FUStBulletCommDesc.data\",\"FUStSkillEffectDesc-hs.data\"]\n",
    "diriter=list(path0.iterdir())\n",
    "diriterstr=[file.name for file in diriter]\n",
    "dirlist=[file for file in diriter if ( not file.is_dir() and file.name.endswith(\".data\") and  (file.name+\".json\" not in diriterstr))  ]#文件夹不迭代，最多遍历一层\n",
    "print([file.name for file in dirlist])\n",
    "saveConfig(dict(failed=[file.name for file in dirlist]),\"failed.json\")\n",
    "dirlist=[file for file in dirlist if   file.name not in blacklist]\n",
    "def saveConfig(config, fileName):\n",
    "    with open(fileName, \"w+\") as jf:\n",
    "        a=jf.write(json.dumps(config,indent=4))\n",
    "        return True\n",
    "\n",
    "for name in dirlist:\n",
    "    # break\n",
    "    filepath=name\n",
    "    binfile = open(filepath, 'rb') #打开二进制文件\n",
    "    size = os.path.getsize(filepath) #获得文件大小\n",
    "    data = binfile.read() #\n",
    "    print(data)\n",
    "    binfile.close()\n",
    "    try:\n",
    "        data_dict, typedef=blackboxprotobuf.protobuf_to_json(data)\n",
    "        with open(name.name+\".json\",\"w\",encoding='utf-8') as f:\n",
    "            f.write(data_dict)\n",
    "    except:\n",
    "        print(\"error!,%s\"%name)\n",
    "\n"
   ]
  }
 ],
 "metadata": {
  "kernelspec": {
   "display_name": "Python 3",
   "language": "python",
   "name": "python3"
  },
  "language_info": {
   "codemirror_mode": {
    "name": "ipython",
    "version": 3
   },
   "file_extension": ".py",
   "mimetype": "text/x-python",
   "name": "python",
   "nbconvert_exporter": "python",
   "pygments_lexer": "ipython3",
   "version": "3.9.13"
  }
 },
 "nbformat": 4,
 "nbformat_minor": 2
}
